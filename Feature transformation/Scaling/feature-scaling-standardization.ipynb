{
 "cells": [
  {
   "cell_type": "code",
   "execution_count": 1,
   "id": "d797a484",
   "metadata": {
    "execution": {
     "iopub.execute_input": "2024-01-31T19:58:49.371999Z",
     "iopub.status.busy": "2024-01-31T19:58:49.371582Z",
     "iopub.status.idle": "2024-01-31T19:58:52.712540Z",
     "shell.execute_reply": "2024-01-31T19:58:52.711287Z"
    },
    "papermill": {
     "duration": 3.350644,
     "end_time": "2024-01-31T19:58:52.714820",
     "exception": false,
     "start_time": "2024-01-31T19:58:49.364176",
     "status": "completed"
    },
    "tags": []
   },
   "outputs": [
    {
     "data": {
      "text/html": [
       "<div>\n",
       "<style scoped>\n",
       "    .dataframe tbody tr th:only-of-type {\n",
       "        vertical-align: middle;\n",
       "    }\n",
       "\n",
       "    .dataframe tbody tr th {\n",
       "        vertical-align: top;\n",
       "    }\n",
       "\n",
       "    .dataframe thead th {\n",
       "        text-align: right;\n",
       "    }\n",
       "</style>\n",
       "<table border=\"1\" class=\"dataframe\">\n",
       "  <thead>\n",
       "    <tr style=\"text-align: right;\">\n",
       "      <th></th>\n",
       "      <th>User ID</th>\n",
       "      <th>Gender</th>\n",
       "      <th>Age</th>\n",
       "      <th>EstimatedSalary</th>\n",
       "      <th>Purchased</th>\n",
       "    </tr>\n",
       "  </thead>\n",
       "  <tbody>\n",
       "    <tr>\n",
       "      <th>0</th>\n",
       "      <td>15624510</td>\n",
       "      <td>Male</td>\n",
       "      <td>19</td>\n",
       "      <td>19000</td>\n",
       "      <td>0</td>\n",
       "    </tr>\n",
       "    <tr>\n",
       "      <th>1</th>\n",
       "      <td>15810944</td>\n",
       "      <td>Male</td>\n",
       "      <td>35</td>\n",
       "      <td>20000</td>\n",
       "      <td>0</td>\n",
       "    </tr>\n",
       "    <tr>\n",
       "      <th>2</th>\n",
       "      <td>15668575</td>\n",
       "      <td>Female</td>\n",
       "      <td>26</td>\n",
       "      <td>43000</td>\n",
       "      <td>0</td>\n",
       "    </tr>\n",
       "    <tr>\n",
       "      <th>3</th>\n",
       "      <td>15603246</td>\n",
       "      <td>Female</td>\n",
       "      <td>27</td>\n",
       "      <td>57000</td>\n",
       "      <td>0</td>\n",
       "    </tr>\n",
       "    <tr>\n",
       "      <th>4</th>\n",
       "      <td>15804002</td>\n",
       "      <td>Male</td>\n",
       "      <td>19</td>\n",
       "      <td>76000</td>\n",
       "      <td>0</td>\n",
       "    </tr>\n",
       "    <tr>\n",
       "      <th>...</th>\n",
       "      <td>...</td>\n",
       "      <td>...</td>\n",
       "      <td>...</td>\n",
       "      <td>...</td>\n",
       "      <td>...</td>\n",
       "    </tr>\n",
       "    <tr>\n",
       "      <th>395</th>\n",
       "      <td>15691863</td>\n",
       "      <td>Female</td>\n",
       "      <td>46</td>\n",
       "      <td>41000</td>\n",
       "      <td>1</td>\n",
       "    </tr>\n",
       "    <tr>\n",
       "      <th>396</th>\n",
       "      <td>15706071</td>\n",
       "      <td>Male</td>\n",
       "      <td>51</td>\n",
       "      <td>23000</td>\n",
       "      <td>1</td>\n",
       "    </tr>\n",
       "    <tr>\n",
       "      <th>397</th>\n",
       "      <td>15654296</td>\n",
       "      <td>Female</td>\n",
       "      <td>50</td>\n",
       "      <td>20000</td>\n",
       "      <td>1</td>\n",
       "    </tr>\n",
       "    <tr>\n",
       "      <th>398</th>\n",
       "      <td>15755018</td>\n",
       "      <td>Male</td>\n",
       "      <td>36</td>\n",
       "      <td>33000</td>\n",
       "      <td>0</td>\n",
       "    </tr>\n",
       "    <tr>\n",
       "      <th>399</th>\n",
       "      <td>15594041</td>\n",
       "      <td>Female</td>\n",
       "      <td>49</td>\n",
       "      <td>36000</td>\n",
       "      <td>1</td>\n",
       "    </tr>\n",
       "  </tbody>\n",
       "</table>\n",
       "<p>400 rows × 5 columns</p>\n",
       "</div>"
      ],
      "text/plain": [
       "      User ID  Gender  Age  EstimatedSalary  Purchased\n",
       "0    15624510    Male   19            19000          0\n",
       "1    15810944    Male   35            20000          0\n",
       "2    15668575  Female   26            43000          0\n",
       "3    15603246  Female   27            57000          0\n",
       "4    15804002    Male   19            76000          0\n",
       "..        ...     ...  ...              ...        ...\n",
       "395  15691863  Female   46            41000          1\n",
       "396  15706071    Male   51            23000          1\n",
       "397  15654296  Female   50            20000          1\n",
       "398  15755018    Male   36            33000          0\n",
       "399  15594041  Female   49            36000          1\n",
       "\n",
       "[400 rows x 5 columns]"
      ]
     },
     "execution_count": 1,
     "metadata": {},
     "output_type": "execute_result"
    }
   ],
   "source": [
    "import pandas as pd\n",
    "import numpy as np\n",
    "import seaborn as sns\n",
    "import matplotlib.pyplot as plt\n",
    "from sklearn.model_selection import train_test_split # used to split data set into (x, y) train and (x, y) test \n",
    "from sklearn.preprocessing import StandardScaler # used to transform data in to stadarization form\n",
    "from sklearn.linear_model import LogisticRegression\n",
    "from sklearn.metrics import accuracy_score\n",
    "df = pd.read_csv(r'/kaggle/input/salary-age-data-set/Social_Network_Ads.csv')\n",
    "df\n",
    "#this data set consederd classification problem "
   ]
  },
  {
   "cell_type": "code",
   "execution_count": 2,
   "id": "c30cf7b6",
   "metadata": {
    "execution": {
     "iopub.execute_input": "2024-01-31T19:58:52.726212Z",
     "iopub.status.busy": "2024-01-31T19:58:52.725802Z",
     "iopub.status.idle": "2024-01-31T19:58:52.743177Z",
     "shell.execute_reply": "2024-01-31T19:58:52.741259Z"
    },
    "papermill": {
     "duration": 0.02656,
     "end_time": "2024-01-31T19:58:52.746074",
     "exception": false,
     "start_time": "2024-01-31T19:58:52.719514",
     "status": "completed"
    },
    "tags": []
   },
   "outputs": [
    {
     "data": {
      "text/html": [
       "<div>\n",
       "<style scoped>\n",
       "    .dataframe tbody tr th:only-of-type {\n",
       "        vertical-align: middle;\n",
       "    }\n",
       "\n",
       "    .dataframe tbody tr th {\n",
       "        vertical-align: top;\n",
       "    }\n",
       "\n",
       "    .dataframe thead th {\n",
       "        text-align: right;\n",
       "    }\n",
       "</style>\n",
       "<table border=\"1\" class=\"dataframe\">\n",
       "  <thead>\n",
       "    <tr style=\"text-align: right;\">\n",
       "      <th></th>\n",
       "      <th>Age</th>\n",
       "      <th>EstimatedSalary</th>\n",
       "      <th>Purchased</th>\n",
       "    </tr>\n",
       "  </thead>\n",
       "  <tbody>\n",
       "    <tr>\n",
       "      <th>0</th>\n",
       "      <td>19</td>\n",
       "      <td>19000</td>\n",
       "      <td>0</td>\n",
       "    </tr>\n",
       "    <tr>\n",
       "      <th>1</th>\n",
       "      <td>35</td>\n",
       "      <td>20000</td>\n",
       "      <td>0</td>\n",
       "    </tr>\n",
       "    <tr>\n",
       "      <th>2</th>\n",
       "      <td>26</td>\n",
       "      <td>43000</td>\n",
       "      <td>0</td>\n",
       "    </tr>\n",
       "    <tr>\n",
       "      <th>3</th>\n",
       "      <td>27</td>\n",
       "      <td>57000</td>\n",
       "      <td>0</td>\n",
       "    </tr>\n",
       "    <tr>\n",
       "      <th>4</th>\n",
       "      <td>19</td>\n",
       "      <td>76000</td>\n",
       "      <td>0</td>\n",
       "    </tr>\n",
       "    <tr>\n",
       "      <th>...</th>\n",
       "      <td>...</td>\n",
       "      <td>...</td>\n",
       "      <td>...</td>\n",
       "    </tr>\n",
       "    <tr>\n",
       "      <th>395</th>\n",
       "      <td>46</td>\n",
       "      <td>41000</td>\n",
       "      <td>1</td>\n",
       "    </tr>\n",
       "    <tr>\n",
       "      <th>396</th>\n",
       "      <td>51</td>\n",
       "      <td>23000</td>\n",
       "      <td>1</td>\n",
       "    </tr>\n",
       "    <tr>\n",
       "      <th>397</th>\n",
       "      <td>50</td>\n",
       "      <td>20000</td>\n",
       "      <td>1</td>\n",
       "    </tr>\n",
       "    <tr>\n",
       "      <th>398</th>\n",
       "      <td>36</td>\n",
       "      <td>33000</td>\n",
       "      <td>0</td>\n",
       "    </tr>\n",
       "    <tr>\n",
       "      <th>399</th>\n",
       "      <td>49</td>\n",
       "      <td>36000</td>\n",
       "      <td>1</td>\n",
       "    </tr>\n",
       "  </tbody>\n",
       "</table>\n",
       "<p>400 rows × 3 columns</p>\n",
       "</div>"
      ],
      "text/plain": [
       "     Age  EstimatedSalary  Purchased\n",
       "0     19            19000          0\n",
       "1     35            20000          0\n",
       "2     26            43000          0\n",
       "3     27            57000          0\n",
       "4     19            76000          0\n",
       "..   ...              ...        ...\n",
       "395   46            41000          1\n",
       "396   51            23000          1\n",
       "397   50            20000          1\n",
       "398   36            33000          0\n",
       "399   49            36000          1\n",
       "\n",
       "[400 rows x 3 columns]"
      ]
     },
     "execution_count": 2,
     "metadata": {},
     "output_type": "execute_result"
    }
   ],
   "source": [
    "df.drop(columns=['User ID','Gender'], inplace=True)\n",
    "df"
   ]
  },
  {
   "cell_type": "markdown",
   "id": "956f4a19",
   "metadata": {
    "papermill": {
     "duration": 0.004539,
     "end_time": "2024-01-31T19:58:52.755829",
     "exception": false,
     "start_time": "2024-01-31T19:58:52.751290",
     "status": "completed"
    },
    "tags": []
   },
   "source": [
    "# train test spliting"
   ]
  },
  {
   "cell_type": "code",
   "execution_count": 3,
   "id": "66015f31",
   "metadata": {
    "execution": {
     "iopub.execute_input": "2024-01-31T19:58:52.767587Z",
     "iopub.status.busy": "2024-01-31T19:58:52.767235Z",
     "iopub.status.idle": "2024-01-31T19:58:52.778871Z",
     "shell.execute_reply": "2024-01-31T19:58:52.776919Z"
    },
    "papermill": {
     "duration": 0.02163,
     "end_time": "2024-01-31T19:58:52.782508",
     "exception": false,
     "start_time": "2024-01-31T19:58:52.760878",
     "status": "completed"
    },
    "tags": []
   },
   "outputs": [],
   "source": [
    "x_train, x_test, y_train, y_test = train_test_split(df.drop(columns=['Purchased']), df['Purchased'], test_size=.3, random_state=0)"
   ]
  },
  {
   "cell_type": "code",
   "execution_count": 4,
   "id": "da0c69b6",
   "metadata": {
    "execution": {
     "iopub.execute_input": "2024-01-31T19:58:52.796000Z",
     "iopub.status.busy": "2024-01-31T19:58:52.795584Z",
     "iopub.status.idle": "2024-01-31T19:58:52.807567Z",
     "shell.execute_reply": "2024-01-31T19:58:52.806134Z"
    },
    "papermill": {
     "duration": 0.022596,
     "end_time": "2024-01-31T19:58:52.810315",
     "exception": false,
     "start_time": "2024-01-31T19:58:52.787719",
     "status": "completed"
    },
    "tags": []
   },
   "outputs": [
    {
     "data": {
      "text/html": [
       "<div>\n",
       "<style scoped>\n",
       "    .dataframe tbody tr th:only-of-type {\n",
       "        vertical-align: middle;\n",
       "    }\n",
       "\n",
       "    .dataframe tbody tr th {\n",
       "        vertical-align: top;\n",
       "    }\n",
       "\n",
       "    .dataframe thead th {\n",
       "        text-align: right;\n",
       "    }\n",
       "</style>\n",
       "<table border=\"1\" class=\"dataframe\">\n",
       "  <thead>\n",
       "    <tr style=\"text-align: right;\">\n",
       "      <th></th>\n",
       "      <th>Age</th>\n",
       "      <th>EstimatedSalary</th>\n",
       "    </tr>\n",
       "  </thead>\n",
       "  <tbody>\n",
       "    <tr>\n",
       "      <th>92</th>\n",
       "      <td>26</td>\n",
       "      <td>15000</td>\n",
       "    </tr>\n",
       "    <tr>\n",
       "      <th>223</th>\n",
       "      <td>60</td>\n",
       "      <td>102000</td>\n",
       "    </tr>\n",
       "    <tr>\n",
       "      <th>234</th>\n",
       "      <td>38</td>\n",
       "      <td>112000</td>\n",
       "    </tr>\n",
       "    <tr>\n",
       "      <th>232</th>\n",
       "      <td>40</td>\n",
       "      <td>107000</td>\n",
       "    </tr>\n",
       "    <tr>\n",
       "      <th>377</th>\n",
       "      <td>42</td>\n",
       "      <td>53000</td>\n",
       "    </tr>\n",
       "    <tr>\n",
       "      <th>...</th>\n",
       "      <td>...</td>\n",
       "      <td>...</td>\n",
       "    </tr>\n",
       "    <tr>\n",
       "      <th>323</th>\n",
       "      <td>48</td>\n",
       "      <td>30000</td>\n",
       "    </tr>\n",
       "    <tr>\n",
       "      <th>192</th>\n",
       "      <td>29</td>\n",
       "      <td>43000</td>\n",
       "    </tr>\n",
       "    <tr>\n",
       "      <th>117</th>\n",
       "      <td>36</td>\n",
       "      <td>52000</td>\n",
       "    </tr>\n",
       "    <tr>\n",
       "      <th>47</th>\n",
       "      <td>27</td>\n",
       "      <td>54000</td>\n",
       "    </tr>\n",
       "    <tr>\n",
       "      <th>172</th>\n",
       "      <td>26</td>\n",
       "      <td>118000</td>\n",
       "    </tr>\n",
       "  </tbody>\n",
       "</table>\n",
       "<p>280 rows × 2 columns</p>\n",
       "</div>"
      ],
      "text/plain": [
       "     Age  EstimatedSalary\n",
       "92    26            15000\n",
       "223   60           102000\n",
       "234   38           112000\n",
       "232   40           107000\n",
       "377   42            53000\n",
       "..   ...              ...\n",
       "323   48            30000\n",
       "192   29            43000\n",
       "117   36            52000\n",
       "47    27            54000\n",
       "172   26           118000\n",
       "\n",
       "[280 rows x 2 columns]"
      ]
     },
     "execution_count": 4,
     "metadata": {},
     "output_type": "execute_result"
    }
   ],
   "source": [
    "x_train"
   ]
  },
  {
   "cell_type": "code",
   "execution_count": 5,
   "id": "166fba2b",
   "metadata": {
    "execution": {
     "iopub.execute_input": "2024-01-31T19:58:52.823591Z",
     "iopub.status.busy": "2024-01-31T19:58:52.823010Z",
     "iopub.status.idle": "2024-01-31T19:58:52.835761Z",
     "shell.execute_reply": "2024-01-31T19:58:52.834265Z"
    },
    "papermill": {
     "duration": 0.022318,
     "end_time": "2024-01-31T19:58:52.838469",
     "exception": false,
     "start_time": "2024-01-31T19:58:52.816151",
     "status": "completed"
    },
    "tags": []
   },
   "outputs": [],
   "source": [
    "scaler = StandardScaler()\n",
    "\n",
    "# used to learn the parametars and Compute the mean and std to be used for later scaling\n",
    "scaler.fit(X=x_train)\n",
    "\n",
    "# used to perform the standarization by centering and scaling\n",
    "x_train_scaled = scaler.transform(X=x_train)\n",
    "x_test_scaled = scaler.transform(X=x_test)"
   ]
  },
  {
   "cell_type": "code",
   "execution_count": 6,
   "id": "00f01dc4",
   "metadata": {
    "execution": {
     "iopub.execute_input": "2024-01-31T19:58:52.851691Z",
     "iopub.status.busy": "2024-01-31T19:58:52.851042Z",
     "iopub.status.idle": "2024-01-31T19:58:52.865731Z",
     "shell.execute_reply": "2024-01-31T19:58:52.863417Z"
    },
    "papermill": {
     "duration": 0.024652,
     "end_time": "2024-01-31T19:58:52.868600",
     "exception": false,
     "start_time": "2024-01-31T19:58:52.843948",
     "status": "completed"
    },
    "tags": []
   },
   "outputs": [
    {
     "data": {
      "text/html": [
       "<div>\n",
       "<style scoped>\n",
       "    .dataframe tbody tr th:only-of-type {\n",
       "        vertical-align: middle;\n",
       "    }\n",
       "\n",
       "    .dataframe tbody tr th {\n",
       "        vertical-align: top;\n",
       "    }\n",
       "\n",
       "    .dataframe thead th {\n",
       "        text-align: right;\n",
       "    }\n",
       "</style>\n",
       "<table border=\"1\" class=\"dataframe\">\n",
       "  <thead>\n",
       "    <tr style=\"text-align: right;\">\n",
       "      <th></th>\n",
       "      <th>Age</th>\n",
       "      <th>EstimatedSalary</th>\n",
       "    </tr>\n",
       "  </thead>\n",
       "  <tbody>\n",
       "    <tr>\n",
       "      <th>0</th>\n",
       "      <td>-1.163172</td>\n",
       "      <td>-1.584970</td>\n",
       "    </tr>\n",
       "    <tr>\n",
       "      <th>1</th>\n",
       "      <td>2.170181</td>\n",
       "      <td>0.930987</td>\n",
       "    </tr>\n",
       "    <tr>\n",
       "      <th>2</th>\n",
       "      <td>0.013305</td>\n",
       "      <td>1.220177</td>\n",
       "    </tr>\n",
       "    <tr>\n",
       "      <th>3</th>\n",
       "      <td>0.209385</td>\n",
       "      <td>1.075582</td>\n",
       "    </tr>\n",
       "    <tr>\n",
       "      <th>4</th>\n",
       "      <td>0.405465</td>\n",
       "      <td>-0.486047</td>\n",
       "    </tr>\n",
       "    <tr>\n",
       "      <th>...</th>\n",
       "      <td>...</td>\n",
       "      <td>...</td>\n",
       "    </tr>\n",
       "    <tr>\n",
       "      <th>275</th>\n",
       "      <td>0.993704</td>\n",
       "      <td>-1.151185</td>\n",
       "    </tr>\n",
       "    <tr>\n",
       "      <th>276</th>\n",
       "      <td>-0.869053</td>\n",
       "      <td>-0.775237</td>\n",
       "    </tr>\n",
       "    <tr>\n",
       "      <th>277</th>\n",
       "      <td>-0.182774</td>\n",
       "      <td>-0.514966</td>\n",
       "    </tr>\n",
       "    <tr>\n",
       "      <th>278</th>\n",
       "      <td>-1.065133</td>\n",
       "      <td>-0.457127</td>\n",
       "    </tr>\n",
       "    <tr>\n",
       "      <th>279</th>\n",
       "      <td>-1.163172</td>\n",
       "      <td>1.393691</td>\n",
       "    </tr>\n",
       "  </tbody>\n",
       "</table>\n",
       "<p>280 rows × 2 columns</p>\n",
       "</div>"
      ],
      "text/plain": [
       "          Age  EstimatedSalary\n",
       "0   -1.163172        -1.584970\n",
       "1    2.170181         0.930987\n",
       "2    0.013305         1.220177\n",
       "3    0.209385         1.075582\n",
       "4    0.405465        -0.486047\n",
       "..        ...              ...\n",
       "275  0.993704        -1.151185\n",
       "276 -0.869053        -0.775237\n",
       "277 -0.182774        -0.514966\n",
       "278 -1.065133        -0.457127\n",
       "279 -1.163172         1.393691\n",
       "\n",
       "[280 rows x 2 columns]"
      ]
     },
     "execution_count": 6,
     "metadata": {},
     "output_type": "execute_result"
    }
   ],
   "source": [
    "x_train_scaled = pd.DataFrame(data=x_train_scaled, columns=x_train.columns)\n",
    "x_test_scaled = pd.DataFrame(data=x_test_scaled, columns=x_test.columns)\n",
    "x_train_scaled"
   ]
  },
  {
   "cell_type": "markdown",
   "id": "48f75070",
   "metadata": {
    "papermill": {
     "duration": 0.005078,
     "end_time": "2024-01-31T19:58:52.879661",
     "exception": false,
     "start_time": "2024-01-31T19:58:52.874583",
     "status": "completed"
    },
    "tags": []
   },
   "source": [
    "# different between original data set and scaled data set"
   ]
  },
  {
   "cell_type": "code",
   "execution_count": 7,
   "id": "5e1b4b05",
   "metadata": {
    "execution": {
     "iopub.execute_input": "2024-01-31T19:58:52.893118Z",
     "iopub.status.busy": "2024-01-31T19:58:52.891527Z",
     "iopub.status.idle": "2024-01-31T19:58:52.913635Z",
     "shell.execute_reply": "2024-01-31T19:58:52.912789Z"
    },
    "papermill": {
     "duration": 0.030798,
     "end_time": "2024-01-31T19:58:52.915694",
     "exception": false,
     "start_time": "2024-01-31T19:58:52.884896",
     "status": "completed"
    },
    "tags": []
   },
   "outputs": [
    {
     "data": {
      "text/html": [
       "<div>\n",
       "<style scoped>\n",
       "    .dataframe tbody tr th:only-of-type {\n",
       "        vertical-align: middle;\n",
       "    }\n",
       "\n",
       "    .dataframe tbody tr th {\n",
       "        vertical-align: top;\n",
       "    }\n",
       "\n",
       "    .dataframe thead th {\n",
       "        text-align: right;\n",
       "    }\n",
       "</style>\n",
       "<table border=\"1\" class=\"dataframe\">\n",
       "  <thead>\n",
       "    <tr style=\"text-align: right;\">\n",
       "      <th></th>\n",
       "      <th>Age</th>\n",
       "      <th>EstimatedSalary</th>\n",
       "    </tr>\n",
       "  </thead>\n",
       "  <tbody>\n",
       "    <tr>\n",
       "      <th>count</th>\n",
       "      <td>280.0</td>\n",
       "      <td>280.0</td>\n",
       "    </tr>\n",
       "    <tr>\n",
       "      <th>mean</th>\n",
       "      <td>37.9</td>\n",
       "      <td>69807.1</td>\n",
       "    </tr>\n",
       "    <tr>\n",
       "      <th>std</th>\n",
       "      <td>10.2</td>\n",
       "      <td>34641.2</td>\n",
       "    </tr>\n",
       "    <tr>\n",
       "      <th>min</th>\n",
       "      <td>18.0</td>\n",
       "      <td>15000.0</td>\n",
       "    </tr>\n",
       "    <tr>\n",
       "      <th>25%</th>\n",
       "      <td>30.0</td>\n",
       "      <td>43000.0</td>\n",
       "    </tr>\n",
       "    <tr>\n",
       "      <th>50%</th>\n",
       "      <td>37.0</td>\n",
       "      <td>70500.0</td>\n",
       "    </tr>\n",
       "    <tr>\n",
       "      <th>75%</th>\n",
       "      <td>46.0</td>\n",
       "      <td>88000.0</td>\n",
       "    </tr>\n",
       "    <tr>\n",
       "      <th>max</th>\n",
       "      <td>60.0</td>\n",
       "      <td>150000.0</td>\n",
       "    </tr>\n",
       "  </tbody>\n",
       "</table>\n",
       "</div>"
      ],
      "text/plain": [
       "         Age  EstimatedSalary\n",
       "count  280.0            280.0\n",
       "mean    37.9          69807.1\n",
       "std     10.2          34641.2\n",
       "min     18.0          15000.0\n",
       "25%     30.0          43000.0\n",
       "50%     37.0          70500.0\n",
       "75%     46.0          88000.0\n",
       "max     60.0         150000.0"
      ]
     },
     "execution_count": 7,
     "metadata": {},
     "output_type": "execute_result"
    }
   ],
   "source": [
    "np.round(x_train.describe(), 1)"
   ]
  },
  {
   "cell_type": "code",
   "execution_count": 8,
   "id": "f55a9010",
   "metadata": {
    "execution": {
     "iopub.execute_input": "2024-01-31T19:58:52.929598Z",
     "iopub.status.busy": "2024-01-31T19:58:52.929049Z",
     "iopub.status.idle": "2024-01-31T19:58:52.949904Z",
     "shell.execute_reply": "2024-01-31T19:58:52.948159Z"
    },
    "papermill": {
     "duration": 0.032382,
     "end_time": "2024-01-31T19:58:52.953585",
     "exception": false,
     "start_time": "2024-01-31T19:58:52.921203",
     "status": "completed"
    },
    "tags": []
   },
   "outputs": [
    {
     "data": {
      "text/html": [
       "<div>\n",
       "<style scoped>\n",
       "    .dataframe tbody tr th:only-of-type {\n",
       "        vertical-align: middle;\n",
       "    }\n",
       "\n",
       "    .dataframe tbody tr th {\n",
       "        vertical-align: top;\n",
       "    }\n",
       "\n",
       "    .dataframe thead th {\n",
       "        text-align: right;\n",
       "    }\n",
       "</style>\n",
       "<table border=\"1\" class=\"dataframe\">\n",
       "  <thead>\n",
       "    <tr style=\"text-align: right;\">\n",
       "      <th></th>\n",
       "      <th>Age</th>\n",
       "      <th>EstimatedSalary</th>\n",
       "    </tr>\n",
       "  </thead>\n",
       "  <tbody>\n",
       "    <tr>\n",
       "      <th>count</th>\n",
       "      <td>280.0</td>\n",
       "      <td>280.0</td>\n",
       "    </tr>\n",
       "    <tr>\n",
       "      <th>mean</th>\n",
       "      <td>0.0</td>\n",
       "      <td>0.0</td>\n",
       "    </tr>\n",
       "    <tr>\n",
       "      <th>std</th>\n",
       "      <td>1.0</td>\n",
       "      <td>1.0</td>\n",
       "    </tr>\n",
       "    <tr>\n",
       "      <th>min</th>\n",
       "      <td>-1.9</td>\n",
       "      <td>-1.6</td>\n",
       "    </tr>\n",
       "    <tr>\n",
       "      <th>25%</th>\n",
       "      <td>-0.8</td>\n",
       "      <td>-0.8</td>\n",
       "    </tr>\n",
       "    <tr>\n",
       "      <th>50%</th>\n",
       "      <td>-0.1</td>\n",
       "      <td>0.0</td>\n",
       "    </tr>\n",
       "    <tr>\n",
       "      <th>75%</th>\n",
       "      <td>0.8</td>\n",
       "      <td>0.5</td>\n",
       "    </tr>\n",
       "    <tr>\n",
       "      <th>max</th>\n",
       "      <td>2.2</td>\n",
       "      <td>2.3</td>\n",
       "    </tr>\n",
       "  </tbody>\n",
       "</table>\n",
       "</div>"
      ],
      "text/plain": [
       "         Age  EstimatedSalary\n",
       "count  280.0            280.0\n",
       "mean     0.0              0.0\n",
       "std      1.0              1.0\n",
       "min     -1.9             -1.6\n",
       "25%     -0.8             -0.8\n",
       "50%     -0.1              0.0\n",
       "75%      0.8              0.5\n",
       "max      2.2              2.3"
      ]
     },
     "execution_count": 8,
     "metadata": {},
     "output_type": "execute_result"
    }
   ],
   "source": [
    "np.round(x_train_scaled.describe(), 1)"
   ]
  },
  {
   "cell_type": "markdown",
   "id": "f99f1d62",
   "metadata": {
    "papermill": {
     "duration": 0.005529,
     "end_time": "2024-01-31T19:58:52.966257",
     "exception": false,
     "start_time": "2024-01-31T19:58:52.960728",
     "status": "completed"
    },
    "tags": []
   },
   "source": [
    "# Effect of scaling"
   ]
  },
  {
   "cell_type": "code",
   "execution_count": 9,
   "id": "3d2ae499",
   "metadata": {
    "execution": {
     "iopub.execute_input": "2024-01-31T19:58:52.979589Z",
     "iopub.status.busy": "2024-01-31T19:58:52.979165Z",
     "iopub.status.idle": "2024-01-31T19:58:53.447011Z",
     "shell.execute_reply": "2024-01-31T19:58:53.445184Z"
    },
    "papermill": {
     "duration": 0.477943,
     "end_time": "2024-01-31T19:58:53.450008",
     "exception": false,
     "start_time": "2024-01-31T19:58:52.972065",
     "status": "completed"
    },
    "tags": []
   },
   "outputs": [
    {
     "data": {
      "image/png": "[encoded data removed]",
      "text/plain": [
       "<Figure size 1200x500 with 2 Axes>"
      ]
     },
     "metadata": {},
     "output_type": "display_data"
    }
   ],
   "source": [
    "fig, axs = plt.subplots(ncols=2, figsize=(12, 5))\n",
    "\n",
    "axs[0].scatter(\n",
    "    x=x_train['Age'],\n",
    "    y=x_train['EstimatedSalary'],\n",
    "    color='red',\n",
    ")\n",
    "axs[0].set_xlabel('Age')\n",
    "axs[0].set_ylabel('salary')\n",
    "axs[0].set_title('X Train')\n",
    "\n",
    "axs[1].scatter(\n",
    "    x=x_train_scaled['Age'],\n",
    "    y=x_train_scaled['EstimatedSalary'],\n",
    "    color='blue',\n",
    "\n",
    ")\n",
    "axs[1].set_xlabel('Age')\n",
    "axs[1].set_ylabel('salary')\n",
    "axs[1].set_title('X Train Scaled')\n",
    "plt.legend()\n",
    "plt.show()"
   ]
  },
  {
   "cell_type": "code",
   "execution_count": 10,
   "id": "f6c5ea57",
   "metadata": {
    "execution": {
     "iopub.execute_input": "2024-01-31T19:58:53.466328Z",
     "iopub.status.busy": "2024-01-31T19:58:53.465520Z",
     "iopub.status.idle": "2024-01-31T19:58:53.942954Z",
     "shell.execute_reply": "2024-01-31T19:58:53.941115Z"
    },
    "papermill": {
     "duration": 0.488045,
     "end_time": "2024-01-31T19:58:53.945758",
     "exception": false,
     "start_time": "2024-01-31T19:58:53.457713",
     "status": "completed"
    },
    "tags": []
   },
   "outputs": [
    {
     "name": "stderr",
     "output_type": "stream",
     "text": [
      "/opt/conda/lib/python3.10/site-packages/seaborn/_oldcore.py:1119: FutureWarning: use_inf_as_na option is deprecated and will be removed in a future version. Convert inf values to NaN before operating instead.\n",
      "  with pd.option_context('mode.use_inf_as_na', True):\n",
      "/opt/conda/lib/python3.10/site-packages/seaborn/_oldcore.py:1119: FutureWarning: use_inf_as_na option is deprecated and will be removed in a future version. Convert inf values to NaN before operating instead.\n",
      "  with pd.option_context('mode.use_inf_as_na', True):\n",
      "/opt/conda/lib/python3.10/site-packages/seaborn/_oldcore.py:1119: FutureWarning: use_inf_as_na option is deprecated and will be removed in a future version. Convert inf values to NaN before operating instead.\n",
      "  with pd.option_context('mode.use_inf_as_na', True):\n",
      "/opt/conda/lib/python3.10/site-packages/seaborn/_oldcore.py:1119: FutureWarning: use_inf_as_na option is deprecated and will be removed in a future version. Convert inf values to NaN before operating instead.\n",
      "  with pd.option_context('mode.use_inf_as_na', True):\n"
     ]
    },
    {
     "data": {
      "image/png": "[encoded data removed]",
      "text/plain": [
       "<Figure size 1200x500 with 2 Axes>"
      ]
     },
     "metadata": {},
     "output_type": "display_data"
    }
   ],
   "source": [
    "fig, axs = plt.subplots(ncols=2, figsize=(12, 5))\n",
    "\n",
    "axs[0].set_xlabel('Age', )\n",
    "axs[0].set_ylabel('salary')\n",
    "axs[0].set_title('X Train')\n",
    "sns.kdeplot(\n",
    "    x=x_train['Age'],\n",
    "    ax=axs[0]\n",
    ")\n",
    "sns.kdeplot(\n",
    "    x=x_train['EstimatedSalary'],\n",
    "    ax=axs[0]\n",
    ")\n",
    "\n",
    "\n",
    "axs[1].set_xlabel('Age')\n",
    "axs[1].set_ylabel('salary')\n",
    "axs[1].set_title('X Train Scaled')\n",
    "sns.kdeplot(\n",
    "    x=x_train_scaled['Age'],\n",
    "    ax=axs[1]\n",
    ")\n",
    "sns.kdeplot(\n",
    "    x=x_train_scaled['EstimatedSalary'],\n",
    "    ax=axs[1]\n",
    ")\n",
    "plt.show()"
   ]
  },
  {
   "cell_type": "markdown",
   "id": "a0f26a8a",
   "metadata": {
    "papermill": {
     "duration": 0.008037,
     "end_time": "2024-01-31T19:58:53.961832",
     "exception": false,
     "start_time": "2024-01-31T19:58:53.953795",
     "status": "completed"
    },
    "tags": []
   },
   "source": [
    "# this show that the range of age column decreased, and that is what the standrization does"
   ]
  },
  {
   "cell_type": "code",
   "execution_count": 11,
   "id": "899fdc8e",
   "metadata": {
    "execution": {
     "iopub.execute_input": "2024-01-31T19:58:53.978276Z",
     "iopub.status.busy": "2024-01-31T19:58:53.977872Z",
     "iopub.status.idle": "2024-01-31T19:58:54.419898Z",
     "shell.execute_reply": "2024-01-31T19:58:54.418398Z"
    },
    "papermill": {
     "duration": 0.453281,
     "end_time": "2024-01-31T19:58:54.422694",
     "exception": false,
     "start_time": "2024-01-31T19:58:53.969413",
     "status": "completed"
    },
    "tags": []
   },
   "outputs": [
    {
     "name": "stderr",
     "output_type": "stream",
     "text": [
      "/opt/conda/lib/python3.10/site-packages/seaborn/_oldcore.py:1119: FutureWarning: use_inf_as_na option is deprecated and will be removed in a future version. Convert inf values to NaN before operating instead.\n",
      "  with pd.option_context('mode.use_inf_as_na', True):\n",
      "/opt/conda/lib/python3.10/site-packages/seaborn/_oldcore.py:1119: FutureWarning: use_inf_as_na option is deprecated and will be removed in a future version. Convert inf values to NaN before operating instead.\n",
      "  with pd.option_context('mode.use_inf_as_na', True):\n"
     ]
    },
    {
     "data": {
      "image/png": "[encoded data removed]",
      "text/plain": [
       "<Figure size 1200x500 with 2 Axes>"
      ]
     },
     "metadata": {},
     "output_type": "display_data"
    }
   ],
   "source": [
    "fig, axs = plt.subplots(ncols=2, figsize=(12, 5))\n",
    "\n",
    "axs[0].set_xlabel('Age', )\n",
    "axs[0].set_title('X Train')\n",
    "sns.kdeplot(\n",
    "    x=x_train['Age'],\n",
    "    ax=axs[0]\n",
    ")\n",
    "axs[0].vlines(\n",
    "    x_train['Age'].min(),\n",
    "    color='black',\n",
    "    linewidth=2,\n",
    "    ymin=0,\n",
    "    ymax=.4,\n",
    ")\n",
    "axs[0].vlines(\n",
    "    x_train['Age'].max(),\n",
    "    color='black',\n",
    "    linewidth=2,\n",
    "    ymin=0,\n",
    "    ymax=.4,\n",
    ")\n",
    "\n",
    "\n",
    "axs[1].set_xlabel('Age')\n",
    "axs[1].set_title('X Train Scaled')\n",
    "axs[1].vlines(\n",
    "    x_train_scaled['Age'].min(),\n",
    "    color='red',\n",
    "    linewidth=2,\n",
    "    ymin=0,\n",
    "    ymax=.4,\n",
    ")\n",
    "axs[1].vlines(\n",
    "    x_train_scaled['Age'].max(),\n",
    "    color='red',\n",
    "    linewidth=2,\n",
    "    ymin=0,\n",
    "    ymax=.4,\n",
    ")\n",
    "sns.kdeplot(\n",
    "    x=x_train_scaled['Age'],\n",
    "    ax=axs[1]\n",
    ")\n",
    "\n",
    "plt.show()"
   ]
  },
  {
   "cell_type": "code",
   "execution_count": 12,
   "id": "32406582",
   "metadata": {
    "execution": {
     "iopub.execute_input": "2024-01-31T19:58:54.440664Z",
     "iopub.status.busy": "2024-01-31T19:58:54.440192Z",
     "iopub.status.idle": "2024-01-31T19:58:54.885065Z",
     "shell.execute_reply": "2024-01-31T19:58:54.882626Z"
    },
    "papermill": {
     "duration": 0.457486,
     "end_time": "2024-01-31T19:58:54.888011",
     "exception": false,
     "start_time": "2024-01-31T19:58:54.430525",
     "status": "completed"
    },
    "tags": []
   },
   "outputs": [
    {
     "name": "stderr",
     "output_type": "stream",
     "text": [
      "/opt/conda/lib/python3.10/site-packages/seaborn/_oldcore.py:1119: FutureWarning: use_inf_as_na option is deprecated and will be removed in a future version. Convert inf values to NaN before operating instead.\n",
      "  with pd.option_context('mode.use_inf_as_na', True):\n",
      "/opt/conda/lib/python3.10/site-packages/seaborn/_oldcore.py:1119: FutureWarning: use_inf_as_na option is deprecated and will be removed in a future version. Convert inf values to NaN before operating instead.\n",
      "  with pd.option_context('mode.use_inf_as_na', True):\n"
     ]
    },
    {
     "data": {
      "image/png": "[encoded data removed]",
      "text/plain": [
       "<Figure size 1200x500 with 2 Axes>"
      ]
     },
     "metadata": {},
     "output_type": "display_data"
    }
   ],
   "source": [
    "fig, axs = plt.subplots(ncols=2, figsize=(12, 5))\n",
    "\n",
    "axs[0].set_xlabel('salary')\n",
    "axs[0].set_title('X Train')\n",
    "\n",
    "\n",
    "sns.kdeplot(\n",
    "    x=x_train['EstimatedSalary'],\n",
    "    ax=axs[0]\n",
    ")\n",
    "\n",
    "\n",
    "\n",
    "axs[1].set_xlabel('salary')\n",
    "axs[1].set_title('X Train Scaled')\n",
    "axs[1].vlines(\n",
    "    x_train_scaled['EstimatedSalary'].min(),\n",
    "    color='black',\n",
    "    linewidth=2,\n",
    "    ymin=0,\n",
    "    ymax=.4,\n",
    ")\n",
    "axs[1].vlines(\n",
    "    x_train_scaled['EstimatedSalary'].max(),\n",
    "    color='black',\n",
    "    linewidth=2,\n",
    "    ymin=0,\n",
    "    ymax=.4,\n",
    ")\n",
    "\n",
    "sns.kdeplot(\n",
    "    x=x_train_scaled['EstimatedSalary'],\n",
    "    ax=axs[1]\n",
    ")\n",
    "plt.show()"
   ]
  },
  {
   "cell_type": "markdown",
   "id": "55066433",
   "metadata": {
    "papermill": {
     "duration": 0.008167,
     "end_time": "2024-01-31T19:58:54.905125",
     "exception": false,
     "start_time": "2024-01-31T19:58:54.896958",
     "status": "completed"
    },
    "tags": []
   },
   "source": [
    "# The importance of scaling data by comparing the result of models accuracy"
   ]
  },
  {
   "cell_type": "code",
   "execution_count": 13,
   "id": "26f61bfe",
   "metadata": {
    "execution": {
     "iopub.execute_input": "2024-01-31T19:58:54.924398Z",
     "iopub.status.busy": "2024-01-31T19:58:54.923886Z",
     "iopub.status.idle": "2024-01-31T19:58:54.954680Z",
     "shell.execute_reply": "2024-01-31T19:58:54.953294Z"
    },
    "papermill": {
     "duration": 0.043779,
     "end_time": "2024-01-31T19:58:54.957314",
     "exception": false,
     "start_time": "2024-01-31T19:58:54.913535",
     "status": "completed"
    },
    "tags": []
   },
   "outputs": [
    {
     "data": {
      "text/html": [
       "<style>#sk-container-id-1 {color: black;background-color: white;}#sk-container-id-1 pre{padding: 0;}#sk-container-id-1 div.sk-toggleable {background-color: white;}#sk-container-id-1 label.sk-toggleable__label {cursor: pointer;display: block;width: 100%;margin-bottom: 0;padding: 0.3em;box-sizing: border-box;text-align: center;}#sk-container-id-1 label.sk-toggleable__label-arrow:before {content: \"▸\";float: left;margin-right: 0.25em;color: #696969;}#sk-container-id-1 label.sk-toggleable__label-arrow:hover:before {color: black;}#sk-container-id-1 div.sk-estimator:hover label.sk-toggleable__label-arrow:before {color: black;}#sk-container-id-1 div.sk-toggleable__content {max-height: 0;max-width: 0;overflow: hidden;text-align: left;background-color: #f0f8ff;}#sk-container-id-1 div.sk-toggleable__content pre {margin: 0.2em;color: black;border-radius: 0.25em;background-color: #f0f8ff;}#sk-container-id-1 input.sk-toggleable__control:checked~div.sk-toggleable__content {max-height: 200px;max-width: 100%;overflow: auto;}#sk-container-id-1 input.sk-toggleable__control:checked~label.sk-toggleable__label-arrow:before {content: \"▾\";}#sk-container-id-1 div.sk-estimator input.sk-toggleable__control:checked~label.sk-toggleable__label {background-color: #d4ebff;}#sk-container-id-1 div.sk-label input.sk-toggleable__control:checked~label.sk-toggleable__label {background-color: #d4ebff;}#sk-container-id-1 input.sk-hidden--visually {border: 0;clip: rect(1px 1px 1px 1px);clip: rect(1px, 1px, 1px, 1px);height: 1px;margin: -1px;overflow: hidden;padding: 0;position: absolute;width: 1px;}#sk-container-id-1 div.sk-estimator {font-family: monospace;background-color: #f0f8ff;border: 1px dotted black;border-radius: 0.25em;box-sizing: border-box;margin-bottom: 0.5em;}#sk-container-id-1 div.sk-estimator:hover {background-color: #d4ebff;}#sk-container-id-1 div.sk-parallel-item::after {content: \"\";width: 100%;border-bottom: 1px solid gray;flex-grow: 1;}#sk-container-id-1 div.sk-label:hover label.sk-toggleable__label {background-color: #d4ebff;}#sk-container-id-1 div.sk-serial::before {content: \"\";position: absolute;border-left: 1px solid gray;box-sizing: border-box;top: 0;bottom: 0;left: 50%;z-index: 0;}#sk-container-id-1 div.sk-serial {display: flex;flex-direction: column;align-items: center;background-color: white;padding-right: 0.2em;padding-left: 0.2em;position: relative;}#sk-container-id-1 div.sk-item {position: relative;z-index: 1;}#sk-container-id-1 div.sk-parallel {display: flex;align-items: stretch;justify-content: center;background-color: white;position: relative;}#sk-container-id-1 div.sk-item::before, #sk-container-id-1 div.sk-parallel-item::before {content: \"\";position: absolute;border-left: 1px solid gray;box-sizing: border-box;top: 0;bottom: 0;left: 50%;z-index: -1;}#sk-container-id-1 div.sk-parallel-item {display: flex;flex-direction: column;z-index: 1;position: relative;background-color: white;}#sk-container-id-1 div.sk-parallel-item:first-child::after {align-self: flex-end;width: 50%;}#sk-container-id-1 div.sk-parallel-item:last-child::after {align-self: flex-start;width: 50%;}#sk-container-id-1 div.sk-parallel-item:only-child::after {width: 0;}#sk-container-id-1 div.sk-dashed-wrapped {border: 1px dashed gray;margin: 0 0.4em 0.5em 0.4em;box-sizing: border-box;padding-bottom: 0.4em;background-color: white;}#sk-container-id-1 div.sk-label label {font-family: monospace;font-weight: bold;display: inline-block;line-height: 1.2em;}#sk-container-id-1 div.sk-label-container {text-align: center;}#sk-container-id-1 div.sk-container {/* jupyter's `normalize.less` sets `[hidden] { display: none; }` but bootstrap.min.css set `[hidden] { display: none !important; }` so we also need the `!important` here to be able to override the default hidden behavior on the sphinx rendered scikit-learn.org. See: https://github.com/scikit-learn/scikit-learn/issues/21755 */display: inline-block !important;position: relative;}#sk-container-id-1 div.sk-text-repr-fallback {display: none;}</style><div id=\"sk-container-id-1\" class=\"sk-top-container\"><div class=\"sk-text-repr-fallback\"><pre>LogisticRegression()</pre><b>In a Jupyter environment, please rerun this cell to show the HTML representation or trust the notebook. <br />On GitHub, the HTML representation is unable to render, please try loading this page with nbviewer.org.</b></div><div class=\"sk-container\" hidden><div class=\"sk-item\"><div class=\"sk-estimator sk-toggleable\"><input class=\"sk-toggleable__control sk-hidden--visually\" id=\"sk-estimator-id-1\" type=\"checkbox\" checked><label for=\"sk-estimator-id-1\" class=\"sk-toggleable__label sk-toggleable__label-arrow\">LogisticRegression</label><div class=\"sk-toggleable__content\"><pre>LogisticRegression()</pre></div></div></div></div></div>"
      ],
      "text/plain": [
       "LogisticRegression()"
      ]
     },
     "execution_count": 13,
     "metadata": {},
     "output_type": "execute_result"
    }
   ],
   "source": [
    "not_scaled_model = LogisticRegression()\n",
    "scaled_model = LogisticRegression()\n",
    "\n",
    "# trianing the both models \n",
    "not_scaled_model.fit(x_train,y_train)\n",
    "scaled_model.fit(x_train_scaled,y_train)"
   ]
  },
  {
   "cell_type": "markdown",
   "id": "bc2b5e2f",
   "metadata": {
    "papermill": {
     "duration": 0.00895,
     "end_time": "2024-01-31T19:58:54.975619",
     "exception": false,
     "start_time": "2024-01-31T19:58:54.966669",
     "status": "completed"
    },
    "tags": []
   },
   "source": [
    "# get the prediction of each model"
   ]
  },
  {
   "cell_type": "code",
   "execution_count": 14,
   "id": "a4d33d4b",
   "metadata": {
    "execution": {
     "iopub.execute_input": "2024-01-31T19:58:54.995684Z",
     "iopub.status.busy": "2024-01-31T19:58:54.995226Z",
     "iopub.status.idle": "2024-01-31T19:58:55.004266Z",
     "shell.execute_reply": "2024-01-31T19:58:55.003065Z"
    },
    "papermill": {
     "duration": 0.022489,
     "end_time": "2024-01-31T19:58:55.007167",
     "exception": false,
     "start_time": "2024-01-31T19:58:54.984678",
     "status": "completed"
    },
    "tags": []
   },
   "outputs": [],
   "source": [
    "predict =        not_scaled_model.predict(x_test)\n",
    "predict_scaled = scaled_model.predict(x_test_scaled)"
   ]
  },
  {
   "cell_type": "code",
   "execution_count": 15,
   "id": "6a396430",
   "metadata": {
    "execution": {
     "iopub.execute_input": "2024-01-31T19:58:55.027164Z",
     "iopub.status.busy": "2024-01-31T19:58:55.026714Z",
     "iopub.status.idle": "2024-01-31T19:58:55.037631Z",
     "shell.execute_reply": "2024-01-31T19:58:55.035995Z"
    },
    "papermill": {
     "duration": 0.024104,
     "end_time": "2024-01-31T19:58:55.040296",
     "exception": false,
     "start_time": "2024-01-31T19:58:55.016192",
     "status": "completed"
    },
    "tags": []
   },
   "outputs": [
    {
     "name": "stdout",
     "output_type": "stream",
     "text": [
      "accuracy_score of not scaled data set  65.83333333333333 %\n",
      "accuracy_score of scaled data set 86.66666666666667 %\n"
     ]
    }
   ],
   "source": [
    "print('accuracy_score of not scaled data set ',accuracy_score(y_test, predict) * 100 , '%')\n",
    "print('accuracy_score of scaled data set',accuracy_score(y_test, predict_scaled) * 100 , '%')"
   ]
  },
  {
   "cell_type": "markdown",
   "id": "fd02a0f3",
   "metadata": {
    "papermill": {
     "duration": 0.008607,
     "end_time": "2024-01-31T19:58:55.058002",
     "exception": false,
     "start_time": "2024-01-31T19:58:55.049395",
     "status": "completed"
    },
    "tags": []
   },
   "source": [
    "# when data not scaled the accuracy_score was about 66%, but with scaling it is about 87%"
   ]
  },
  {
   "cell_type": "markdown",
   "id": "86d2f579",
   "metadata": {
    "papermill": {
     "duration": 0.008945,
     "end_time": "2024-01-31T19:58:55.077570",
     "exception": false,
     "start_time": "2024-01-31T19:58:55.068625",
     "status": "completed"
    },
    "tags": []
   },
   "source": [
    "# The End"
   ]
  }
 ],
 "metadata": {
  "kaggle": {
   "accelerator": "none",
   "dataSources": [
    {
     "datasetId": 4382776,
     "sourceId": 7523960,
     "sourceType": "datasetVersion"
    }
   ],
   "dockerImageVersionId": 30646,
   "isGpuEnabled": false,
   "isInternetEnabled": true,
   "language": "python",
   "sourceType": "notebook"
  },
  "kernelspec": {
   "display_name": "Python 3",
   "language": "python",
   "name": "python3"
  },
  "language_info": {
   "codemirror_mode": {
    "name": "ipython",
    "version": 3
   },
   "file_extension": ".py",
   "mimetype": "text/x-python",
   "name": "python",
   "nbconvert_exporter": "python",
   "pygments_lexer": "ipython3",
   "version": "3.10.13"
  },
  "papermill": {
   "default_parameters": {},
   "duration": 9.337157,
   "end_time": "2024-01-31T19:58:55.811146",
   "environment_variables": {},
   "exception": null,
   "input_path": "__notebook__.ipynb",
   "output_path": "__notebook__.ipynb",
   "parameters": {},
   "start_time": "2024-01-31T19:58:46.473989",
   "version": "2.5.0"
  }
 },
 "nbformat": 4,
 "nbformat_minor": 5
}
